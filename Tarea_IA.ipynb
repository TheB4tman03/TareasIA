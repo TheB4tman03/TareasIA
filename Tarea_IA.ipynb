{
  "nbformat": 4,
  "nbformat_minor": 0,
  "metadata": {
    "colab": {
      "provenance": []
    },
    "kernelspec": {
      "name": "python3",
      "display_name": "Python 3"
    },
    "language_info": {
      "name": "python"
    }
  },
  "cells": [
    {
      "cell_type": "markdown",
      "source": [
        "Text Analysis Tool: Create a Python program that reads a text file and performs various analyses on its content. The program should: Count the number of words, sentences, and paragraphs. Calculate the average word length. Identify the most common words and their frequencies."
      ],
      "metadata": {
        "id": "m_nWwJZv1B7h"
      }
    },
    {
      "cell_type": "code",
      "source": [
        "import re\n",
        "from collections import Counter\n",
        "\n",
        "def read_file(file_path):\n",
        "        with open(file_path) as file:\n",
        "            text = file.read()\n",
        "        return text\n",
        "\n",
        "def count_words(text):\n",
        "    words = re.findall(r'\\b\\w+\\b', text)\n",
        "    return len(words)\n",
        "\n",
        "def count_sentences(text):\n",
        "    sentences = re.split('[.!?]', text)\n",
        "    return len(sentences)\n",
        "\n",
        "def count_paragraphs(text):\n",
        "    paragraphs = re.split('\\n\\s*\\n', text)\n",
        "    return len(paragraphs)\n",
        "\n",
        "def average_word_length(text):\n",
        "    words = re.findall(r'\\b\\w+\\b', text)\n",
        "    total_length = sum(len(word) for word in words)\n",
        "    return total_length / len(words) if words else 0\n",
        "\n",
        "def most_common_words(text, num_words=5):\n",
        "    words = re.findall(r'\\b\\w+\\b', text.lower())\n",
        "    word_counts = Counter(words)\n",
        "    return word_counts.most_common(num_words)\n",
        "\n",
        "def text_analysis_tool():\n",
        "  try:\n",
        "        file_path = input(\"Enter the path to the text file: \")\n",
        "        text = read_file(file_path)\n",
        "        words = count_words(text)\n",
        "        sentences = count_sentences(text)\n",
        "        paragraphs = count_paragraphs(text)\n",
        "        avg_wl = average_word_length(text)\n",
        "        com_words = most_common_words(text)\n",
        "\n",
        "        print(f\"Number of words: {words}\")\n",
        "        print(f\"Number of sentences: {sentences}\")\n",
        "        print(f\"Number of paragraphs: {paragraphs}\")\n",
        "        print(f\"Average word length: {avg_wl:.2f}\")\n",
        "        print(\"Most common words:\")\n",
        "        for word, frequency in com_words:\n",
        "            print(f\"{word}: {frequency}\")\n",
        "  except FileNotFoundError:\n",
        "        print(f\"File '{file_path}' not found.\")\n",
        "        return None\n",
        "\n",
        "text_analysis_tool()\n"
      ],
      "metadata": {
        "id": "nnka6fNg2FVy",
        "colab": {
          "base_uri": "https://localhost:8080/"
        },
        "outputId": "f484a49e-322f-4696-d614-7f016ed628b0"
      },
      "execution_count": 6,
      "outputs": [
        {
          "output_type": "stream",
          "name": "stdout",
          "text": [
            "Enter the path to the text file: Batman\n",
            "File 'Batman' not found.\n"
          ]
        }
      ]
    },
    {
      "cell_type": "markdown",
      "source": [
        "Hangman Game: Create a Python program that allows a user to play the game of Hangman. The program should randomly select a word from a predefined list, and the player must guess letters one at a time until they guess the word correctly or run out of attempts."
      ],
      "metadata": {
        "id": "N0OYk-716FhH"
      }
    },
    {
      "cell_type": "code",
      "source": [
        "import random\n",
        "\n",
        "def choose_random_word():\n",
        "    words = [\"apple\", \"banana\", \"cherry\", \"dog\", \"elephant\", \"giraffe\", \"hamburger\"]\n",
        "    return random.choice(words)\n",
        "\n",
        "def display(word, guessed_letters):\n",
        "    display = \"\"\n",
        "    for letter in word:\n",
        "        if letter in guessed_letters:\n",
        "            display += letter\n",
        "        else:\n",
        "            display += \"_\"\n",
        "    return display\n",
        "\n",
        "def hangman():\n",
        "    word = choose_random_word()\n",
        "    guessed_letters = []\n",
        "    attempts = 5  # You can change the number of allowed attempts here\n",
        "\n",
        "    print(\"Welcome to Hangman!\")\n",
        "    print(\"Try to guess the word.\")\n",
        "\n",
        "    while attempts > 0:\n",
        "        print(\"\\n\" + display(word, guessed_letters))\n",
        "        guess = input(\"Guess a letter: \").lower()\n",
        "\n",
        "        if guess in guessed_letters:\n",
        "            print(\"You already guessed that letter.\")\n",
        "            continue\n",
        "\n",
        "        guessed_letters.append(guess)\n",
        "\n",
        "        if guess in word:\n",
        "            print(\"Correct!\")\n",
        "        else:\n",
        "            attempts -= 1\n",
        "            print(\"Wrong guess. You have\", attempts, \"attempts left.\")\n",
        "\n",
        "        if set(guessed_letters) == set(word):\n",
        "            print(\"\\nCongratulations! You guessed the word:\", word)\n",
        "            break\n",
        "\n",
        "    if attempts == 0:\n",
        "        print(\"\\nYou've run out of attempts. The word was:\", word)\n",
        "\n",
        "\n",
        "hangman()\n"
      ],
      "metadata": {
        "id": "HrU36ovC6KyJ",
        "colab": {
          "base_uri": "https://localhost:8080/"
        },
        "outputId": "4cee4f6f-6a22-4611-dbea-d0838705cc3b"
      },
      "execution_count": null,
      "outputs": [
        {
          "output_type": "stream",
          "name": "stdout",
          "text": [
            "Welcome to Hangman!\n",
            "Try to guess the word.\n",
            "\n",
            "_____\n",
            "Guess a letter: a\n",
            "Correct!\n",
            "\n",
            "a____\n",
            "Guess a letter: p\n",
            "Correct!\n",
            "\n",
            "app__\n",
            "Guess a letter: l\n",
            "Correct!\n",
            "\n",
            "appl_\n",
            "Guess a letter: e\n",
            "Correct!\n",
            "\n",
            "Congratulations! You guessed the word: apple\n"
          ]
        }
      ]
    },
    {
      "cell_type": "markdown",
      "source": [
        "Number Guessing Game: Create a program that generates a random number between 1 and 100, and then asks the user to guess the number. The program should provide hints to the user if the guessed number is greater or less than the target number, and keep asking for a new guess until the user guesses correctly."
      ],
      "metadata": {
        "id": "zK5xXIMV8Cy4"
      }
    },
    {
      "cell_type": "code",
      "source": [
        "import random\n",
        "\n",
        "target = random.randint(1, 100)\n",
        "print(\"Guess the number between 1 and 100!\")\n",
        "attempts=0\n",
        "while True:\n",
        "        try:\n",
        "            user = int(input(\"Guess the number: \"))\n",
        "            attempts += 1\n",
        "\n",
        "            if user < target:\n",
        "                print(\"The target number is higher. Try again.\")\n",
        "                continue\n",
        "            elif user > target:\n",
        "                print(\"The target number is lower. Try again.\")\n",
        "            elif user==target:\n",
        "                print(f\"Congratulations! You've guessed the number {target} in {attempts} attempts.\")\n",
        "                break\n",
        "        except:\n",
        "            if user<0 or user>100:\n",
        "                print(\"Number not in range\")\n",
        "\n"
      ],
      "metadata": {
        "id": "J5w0-WBRFqYe",
        "outputId": "1dadacce-9a4d-45f3-a701-f0f20643b95a",
        "colab": {
          "base_uri": "https://localhost:8080/"
        }
      },
      "execution_count": null,
      "outputs": [
        {
          "output_type": "stream",
          "name": "stdout",
          "text": [
            "Guess the number between 1 and 100!\n",
            "Guess the number: 9\n",
            "The target number is lower. Try again.\n",
            "Guess the number: 3\n",
            "The target number is higher. Try again.\n",
            "Guess the number: 5\n",
            "The target number is higher. Try again.\n",
            "Guess the number: 6\n",
            "The target number is higher. Try again.\n",
            "Guess the number: 7\n",
            "Congratulations! You've guessed the number 7 in 5 attempts.\n"
          ]
        }
      ]
    }
  ]
}